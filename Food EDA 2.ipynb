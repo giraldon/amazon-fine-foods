{
 "cells": [
  {
   "cell_type": "code",
   "execution_count": 1,
   "metadata": {},
   "outputs": [
    {
     "name": "stderr",
     "output_type": "stream",
     "text": [
      "/anaconda3/lib/python3.5/importlib/_bootstrap.py:222: RuntimeWarning: numpy.dtype size changed, may indicate binary incompatibility. Expected 96, got 88\n",
      "  return f(*args, **kwds)\n",
      "/anaconda3/lib/python3.5/importlib/_bootstrap.py:222: RuntimeWarning: numpy.dtype size changed, may indicate binary incompatibility. Expected 96, got 88\n",
      "  return f(*args, **kwds)\n",
      "/anaconda3/lib/python3.5/importlib/_bootstrap.py:222: RuntimeWarning: numpy.dtype size changed, may indicate binary incompatibility. Expected 96, got 88\n",
      "  return f(*args, **kwds)\n",
      "/anaconda3/lib/python3.5/importlib/_bootstrap.py:222: RuntimeWarning: numpy.dtype size changed, may indicate binary incompatibility. Expected 96, got 88\n",
      "  return f(*args, **kwds)\n",
      "/anaconda3/lib/python3.5/site-packages/scipy/sparse/sparsetools.py:21: DeprecationWarning: `scipy.sparse.sparsetools` is deprecated!\n",
      "scipy.sparse.sparsetools is a private module for scipy.sparse, and should not be used.\n",
      "  _deprecated()\n",
      "/anaconda3/lib/python3.5/importlib/_bootstrap.py:222: RuntimeWarning: numpy.dtype size changed, may indicate binary incompatibility. Expected 96, got 88\n",
      "  return f(*args, **kwds)\n"
     ]
    }
   ],
   "source": [
    "#standard Data Science imports\n",
    "import pandas as pd\n",
    "import numpy as np\n",
    "import matplotlib.pyplot as plt\n",
    "import seaborn as sns\n",
    "import pyLDAvis\n",
    "\n",
    "from collections import OrderedDict\n",
    "\n",
    "#import gensim stuff\n",
    "from gensim import corpora, models, similarities, matutils\n",
    "from gensim.corpora import Dictionary\n",
    "\n",
    "#import sklearn utilities\n",
    "from sklearn import metrics\n",
    "from sklearn.feature_extraction.text import CountVectorizer, TfidfVectorizer, ENGLISH_STOP_WORDS\n",
    "from sklearn.cluster import KMeans\n",
    "from sklearn.decomposition import NMF\n",
    "from sklearn.model_selection import train_test_split\n",
    "from sklearn.preprocessing import Normalizer\n",
    "\n",
    "#other\n",
    "import logging\n",
    "\n",
    "%matplotlib inline\n",
    "sns.set()\n",
    "pyLDAvis.enable_notebook()"
   ]
  },
  {
   "cell_type": "code",
   "execution_count": 3,
   "metadata": {
    "scrolled": true
   },
   "outputs": [
    {
     "data": {
      "text/html": [
       "<div>\n",
       "<style scoped>\n",
       "    .dataframe tbody tr th:only-of-type {\n",
       "        vertical-align: middle;\n",
       "    }\n",
       "\n",
       "    .dataframe tbody tr th {\n",
       "        vertical-align: top;\n",
       "    }\n",
       "\n",
       "    .dataframe thead th {\n",
       "        text-align: right;\n",
       "    }\n",
       "</style>\n",
       "<table border=\"1\" class=\"dataframe\">\n",
       "  <thead>\n",
       "    <tr style=\"text-align: right;\">\n",
       "      <th></th>\n",
       "      <th>Id</th>\n",
       "      <th>ProductId</th>\n",
       "      <th>UserId</th>\n",
       "      <th>ProfileName</th>\n",
       "      <th>HelpfulnessNumerator</th>\n",
       "      <th>HelpfulnessDenominator</th>\n",
       "      <th>Score</th>\n",
       "      <th>Time</th>\n",
       "      <th>Summary</th>\n",
       "      <th>Text</th>\n",
       "    </tr>\n",
       "  </thead>\n",
       "  <tbody>\n",
       "    <tr>\n",
       "      <th>165256</th>\n",
       "      <td>165257</td>\n",
       "      <td>B000EVG8J2</td>\n",
       "      <td>A1L01D2BD3RKVO</td>\n",
       "      <td>B. Miller \"pet person\"</td>\n",
       "      <td>0</td>\n",
       "      <td>0</td>\n",
       "      <td>5</td>\n",
       "      <td>1268179200</td>\n",
       "      <td>Crunchy &amp; Good Gluten-Free Sandwich Cookies!</td>\n",
       "      <td>Having tried a couple of other brands of glute...</td>\n",
       "    </tr>\n",
       "    <tr>\n",
       "      <th>231465</th>\n",
       "      <td>231466</td>\n",
       "      <td>B0000BXJIS</td>\n",
       "      <td>A3U62RE5XZDP0G</td>\n",
       "      <td>Marty</td>\n",
       "      <td>0</td>\n",
       "      <td>0</td>\n",
       "      <td>5</td>\n",
       "      <td>1298937600</td>\n",
       "      <td>great kitty treats</td>\n",
       "      <td>My cat loves these treats. If ever I can't fin...</td>\n",
       "    </tr>\n",
       "    <tr>\n",
       "      <th>427827</th>\n",
       "      <td>427828</td>\n",
       "      <td>B008FHUFAU</td>\n",
       "      <td>AOXC0JQQZGGB6</td>\n",
       "      <td>Kenneth Shevlin</td>\n",
       "      <td>0</td>\n",
       "      <td>2</td>\n",
       "      <td>3</td>\n",
       "      <td>1224028800</td>\n",
       "      <td>COFFEE TASTE</td>\n",
       "      <td>A little less than I expected.  It tends to ha...</td>\n",
       "    </tr>\n",
       "    <tr>\n",
       "      <th>433954</th>\n",
       "      <td>433955</td>\n",
       "      <td>B006BXV14E</td>\n",
       "      <td>A3PWPNZVMNX3PA</td>\n",
       "      <td>rareoopdvds</td>\n",
       "      <td>0</td>\n",
       "      <td>1</td>\n",
       "      <td>2</td>\n",
       "      <td>1335312000</td>\n",
       "      <td>So the Mini-Wheats were too big?</td>\n",
       "      <td>First there was Frosted Mini-Wheats, in origin...</td>\n",
       "    </tr>\n",
       "    <tr>\n",
       "      <th>70260</th>\n",
       "      <td>70261</td>\n",
       "      <td>B007I7Z3Z0</td>\n",
       "      <td>A1XNZ7PCE45KK7</td>\n",
       "      <td>Og8ys1</td>\n",
       "      <td>0</td>\n",
       "      <td>2</td>\n",
       "      <td>5</td>\n",
       "      <td>1334707200</td>\n",
       "      <td>Great Taste . . .</td>\n",
       "      <td>and I want to congratulate the graphic artist ...</td>\n",
       "    </tr>\n",
       "  </tbody>\n",
       "</table>\n",
       "</div>"
      ],
      "text/plain": [
       "            Id   ProductId          UserId             ProfileName  \\\n",
       "165256  165257  B000EVG8J2  A1L01D2BD3RKVO  B. Miller \"pet person\"   \n",
       "231465  231466  B0000BXJIS  A3U62RE5XZDP0G                   Marty   \n",
       "427827  427828  B008FHUFAU   AOXC0JQQZGGB6         Kenneth Shevlin   \n",
       "433954  433955  B006BXV14E  A3PWPNZVMNX3PA             rareoopdvds   \n",
       "70260    70261  B007I7Z3Z0  A1XNZ7PCE45KK7                  Og8ys1   \n",
       "\n",
       "        HelpfulnessNumerator  HelpfulnessDenominator  Score        Time  \\\n",
       "165256                     0                       0      5  1268179200   \n",
       "231465                     0                       0      5  1298937600   \n",
       "427827                     0                       2      3  1224028800   \n",
       "433954                     0                       1      2  1335312000   \n",
       "70260                      0                       2      5  1334707200   \n",
       "\n",
       "                                             Summary  \\\n",
       "165256  Crunchy & Good Gluten-Free Sandwich Cookies!   \n",
       "231465                            great kitty treats   \n",
       "427827                                  COFFEE TASTE   \n",
       "433954              So the Mini-Wheats were too big?   \n",
       "70260                              Great Taste . . .   \n",
       "\n",
       "                                                     Text  \n",
       "165256  Having tried a couple of other brands of glute...  \n",
       "231465  My cat loves these treats. If ever I can't fin...  \n",
       "427827  A little less than I expected.  It tends to ha...  \n",
       "433954  First there was Frosted Mini-Wheats, in origin...  \n",
       "70260   and I want to congratulate the graphic artist ...  "
      ]
     },
     "execution_count": 3,
     "metadata": {},
     "output_type": "execute_result"
    }
   ],
   "source": [
    "## Import the dataset, split into workable subset\n",
    "reviews_full = pd.read_csv(\"/Users/anagiraldo-w/ds/Portfolio/Fine Food Reviews/data/reviews.csv\")\n",
    "reviews_bulk, reviews = train_test_split(reviews_full, test_size = 0.1, random_state = 42)\n",
    "reviews.head()"
   ]
  },
  {
   "cell_type": "code",
   "execution_count": 4,
   "metadata": {},
   "outputs": [
    {
     "name": "stderr",
     "output_type": "stream",
     "text": [
      "/anaconda3/lib/python3.5/site-packages/ipykernel_launcher.py:1: SettingWithCopyWarning: \n",
      "A value is trying to be set on a copy of a slice from a DataFrame.\n",
      "Try using .loc[row_indexer,col_indexer] = value instead\n",
      "\n",
      "See the caveats in the documentation: http://pandas.pydata.org/pandas-docs/stable/indexing.html#indexing-view-versus-copy\n",
      "  \"\"\"Entry point for launching an IPython kernel.\n",
      "/anaconda3/lib/python3.5/site-packages/ipykernel_launcher.py:2: SettingWithCopyWarning: \n",
      "A value is trying to be set on a copy of a slice from a DataFrame.\n",
      "Try using .loc[row_indexer,col_indexer] = value instead\n",
      "\n",
      "See the caveats in the documentation: http://pandas.pydata.org/pandas-docs/stable/indexing.html#indexing-view-versus-copy\n",
      "  \n"
     ]
    },
    {
     "data": {
      "text/html": [
       "<div>\n",
       "<style scoped>\n",
       "    .dataframe tbody tr th:only-of-type {\n",
       "        vertical-align: middle;\n",
       "    }\n",
       "\n",
       "    .dataframe tbody tr th {\n",
       "        vertical-align: top;\n",
       "    }\n",
       "\n",
       "    .dataframe thead th {\n",
       "        text-align: right;\n",
       "    }\n",
       "</style>\n",
       "<table border=\"1\" class=\"dataframe\">\n",
       "  <thead>\n",
       "    <tr style=\"text-align: right;\">\n",
       "      <th></th>\n",
       "      <th>index</th>\n",
       "      <th>ProductId</th>\n",
       "      <th>UserId</th>\n",
       "      <th>Score</th>\n",
       "      <th>Time</th>\n",
       "      <th>Summary</th>\n",
       "      <th>Text</th>\n",
       "      <th>Helpfulness</th>\n",
       "    </tr>\n",
       "  </thead>\n",
       "  <tbody>\n",
       "    <tr>\n",
       "      <th>0</th>\n",
       "      <td>374342</td>\n",
       "      <td>B00004CI84</td>\n",
       "      <td>A1B2IZU1JLZA6</td>\n",
       "      <td>1</td>\n",
       "      <td>2000-01-19</td>\n",
       "      <td>WARNING: CLAMSHELL EDITION IS EDITED TV VERSION</td>\n",
       "      <td>I, myself always enjoyed this movie, it's very...</td>\n",
       "      <td>0.826087</td>\n",
       "    </tr>\n",
       "    <tr>\n",
       "      <th>1</th>\n",
       "      <td>230268</td>\n",
       "      <td>B00004RYGX</td>\n",
       "      <td>A1B2IZU1JLZA6</td>\n",
       "      <td>1</td>\n",
       "      <td>2000-01-19</td>\n",
       "      <td>WARNING: CLAMSHELL EDITION IS EDITED TV VERSION</td>\n",
       "      <td>I, myself always enjoyed this movie, it's very...</td>\n",
       "      <td>0.826087</td>\n",
       "    </tr>\n",
       "    <tr>\n",
       "      <th>2</th>\n",
       "      <td>451976</td>\n",
       "      <td>B00004CXX9</td>\n",
       "      <td>ACJR7EQF9S6FP</td>\n",
       "      <td>4</td>\n",
       "      <td>2000-02-26</td>\n",
       "      <td>Bettlejuice...Bettlejuice...BETTLEJUICE!</td>\n",
       "      <td>What happens when you say his name three times...</td>\n",
       "      <td>0.666667</td>\n",
       "    </tr>\n",
       "    <tr>\n",
       "      <th>3</th>\n",
       "      <td>149769</td>\n",
       "      <td>B00004S1C5</td>\n",
       "      <td>A1KXONFPU2XQ5K</td>\n",
       "      <td>5</td>\n",
       "      <td>2000-08-09</td>\n",
       "      <td>Very easy to use</td>\n",
       "      <td>This are so much easier to use than the Wilson...</td>\n",
       "      <td>1.000000</td>\n",
       "    </tr>\n",
       "    <tr>\n",
       "      <th>4</th>\n",
       "      <td>479722</td>\n",
       "      <td>B00005U2FA</td>\n",
       "      <td>A3TO9GEQEGKFDC</td>\n",
       "      <td>5</td>\n",
       "      <td>2002-05-01</td>\n",
       "      <td>I love this thing</td>\n",
       "      <td>The wine saver is great in so many ways. Obvio...</td>\n",
       "      <td>1.000000</td>\n",
       "    </tr>\n",
       "  </tbody>\n",
       "</table>\n",
       "</div>"
      ],
      "text/plain": [
       "    index   ProductId          UserId  Score       Time  \\\n",
       "0  374342  B00004CI84   A1B2IZU1JLZA6      1 2000-01-19   \n",
       "1  230268  B00004RYGX   A1B2IZU1JLZA6      1 2000-01-19   \n",
       "2  451976  B00004CXX9   ACJR7EQF9S6FP      4 2000-02-26   \n",
       "3  149769  B00004S1C5  A1KXONFPU2XQ5K      5 2000-08-09   \n",
       "4  479722  B00005U2FA  A3TO9GEQEGKFDC      5 2002-05-01   \n",
       "\n",
       "                                           Summary  \\\n",
       "0  WARNING: CLAMSHELL EDITION IS EDITED TV VERSION   \n",
       "1  WARNING: CLAMSHELL EDITION IS EDITED TV VERSION   \n",
       "2         Bettlejuice...Bettlejuice...BETTLEJUICE!   \n",
       "3                                 Very easy to use   \n",
       "4                                I love this thing   \n",
       "\n",
       "                                                Text  Helpfulness  \n",
       "0  I, myself always enjoyed this movie, it's very...     0.826087  \n",
       "1  I, myself always enjoyed this movie, it's very...     0.826087  \n",
       "2  What happens when you say his name three times...     0.666667  \n",
       "3  This are so much easier to use than the Wilson...     1.000000  \n",
       "4  The wine saver is great in so many ways. Obvio...     1.000000  "
      ]
     },
     "execution_count": 4,
     "metadata": {},
     "output_type": "execute_result"
    }
   ],
   "source": [
    "reviews['Time'] = pd.to_datetime(reviews['Time'], unit='s')\n",
    "reviews['Helpfulness'] = reviews['HelpfulnessNumerator']/reviews['HelpfulnessDenominator']\n",
    "reviews = reviews.drop(['Id', 'HelpfulnessNumerator', 'HelpfulnessDenominator', 'ProfileName'], axis=1)\n",
    "reviews = reviews.sort_values(by='Time').reset_index()\n",
    "reviews.head()"
   ]
  },
  {
   "cell_type": "code",
   "execution_count": 5,
   "metadata": {},
   "outputs": [
    {
     "data": {
      "text/plain": [
       "index              0\n",
       "ProductId          0\n",
       "UserId             0\n",
       "Score              0\n",
       "Time               0\n",
       "Summary            1\n",
       "Text               0\n",
       "Helpfulness    27004\n",
       "dtype: int64"
      ]
     },
     "execution_count": 5,
     "metadata": {},
     "output_type": "execute_result"
    }
   ],
   "source": [
    "reviews.isnull().sum()"
   ]
  },
  {
   "cell_type": "code",
   "execution_count": 6,
   "metadata": {},
   "outputs": [
    {
     "data": {
      "text/plain": [
       "56846"
      ]
     },
     "execution_count": 6,
     "metadata": {},
     "output_type": "execute_result"
    }
   ],
   "source": [
    "len(reviews['Helpfulness'])"
   ]
  },
  {
   "cell_type": "code",
   "execution_count": 7,
   "metadata": {},
   "outputs": [
    {
     "data": {
      "text/plain": [
       "0.5249621785173979"
      ]
     },
     "execution_count": 7,
     "metadata": {},
     "output_type": "execute_result"
    }
   ],
   "source": [
    "(len(reviews['Helpfulness']) - 27004)/len(reviews['Helpfulness'])"
   ]
  },
  {
   "cell_type": "code",
   "execution_count": 8,
   "metadata": {},
   "outputs": [],
   "source": [
    "# filter out textual data column\n",
    "\n",
    "text = reviews['Text']"
   ]
  },
  {
   "cell_type": "code",
   "execution_count": 9,
   "metadata": {},
   "outputs": [],
   "source": [
    "additional_stops = ['http', 'www', 'br', 'gp', 'com', 'href', 've', 'don', 'really', 'product', 'eat', 'amazon', 'bit', 'eating']\n",
    "stop_words = ENGLISH_STOP_WORDS.union(additional_stops)"
   ]
  },
  {
   "cell_type": "code",
   "execution_count": 10,
   "metadata": {},
   "outputs": [],
   "source": [
    "tfidf = TfidfVectorizer(ngram_range=(1, 1),\n",
    "                        analyzer='word',\n",
    "                        stop_words=stop_words,\n",
    "                        strip_accents='unicode',\n",
    "                        max_df=0.05\n",
    "                       )\n"
   ]
  },
  {
   "cell_type": "code",
   "execution_count": 11,
   "metadata": {},
   "outputs": [
    {
     "data": {
      "text/plain": [
       "(56846, 44337)"
      ]
     },
     "execution_count": 11,
     "metadata": {},
     "output_type": "execute_result"
    }
   ],
   "source": [
    "tfidf_vec = tfidf.fit_transform(text)\n",
    "tfidf_vec.shape"
   ]
  },
  {
   "cell_type": "code",
   "execution_count": 12,
   "metadata": {},
   "outputs": [],
   "source": [
    "vec = CountVectorizer(ngram_range=(1, 1),\n",
    "                      analyzer='word',\n",
    "                      stop_words=stop_words,\n",
    "                      strip_accents='unicode',\n",
    "                      max_df=0.11\n",
    "                     )\n",
    "vec.fit(text)\n",
    "\n",
    "counts_vec = vec.transform(text).transpose()"
   ]
  },
  {
   "cell_type": "code",
   "execution_count": 13,
   "metadata": {},
   "outputs": [],
   "source": [
    "nmf = NMF(10)\n",
    "nmf_vecs = nmf.fit_transform(tfidf_vec)"
   ]
  },
  {
   "cell_type": "code",
   "execution_count": 14,
   "metadata": {},
   "outputs": [],
   "source": [
    "features = tfidf.get_feature_names()\n",
    "topics = [[features[idx] for idx in np.flip(np.argsort(component)[-20:], axis=0)] for component in nmf.components_]"
   ]
  },
  {
   "cell_type": "code",
   "execution_count": 15,
   "metadata": {},
   "outputs": [],
   "source": [
    "def print_topics(topics):\n",
    "    for i,topic in enumerate(topics):\n",
    "        print(\"Topic {}\".format(i))\n",
    "        print(\", \".join(topic)+\"\\n\")"
   ]
  },
  {
   "cell_type": "code",
   "execution_count": 16,
   "metadata": {},
   "outputs": [
    {
     "name": "stdout",
     "output_type": "stream",
     "text": [
      "Topic 0\n",
      "hot, sauce, spicy, milk, cocoa, heat, cold, chicken, iced, pasta, sauces, soup, noodles, pepper, cheese, rice, spice, powder, ice, chili\n",
      "\n",
      "Topic 1\n",
      "treats, dogs, treat, training, size, teeth, chew, puppy, chicken, pieces, toy, smell, picky, pet, large, smaller, bones, giving, chews, ingredients\n",
      "\n",
      "Topic 2\n",
      "chips, potato, salt, chip, bags, kettle, salty, vinegar, fat, popchips, crunchy, bbq, snack, regular, spicy, calories, baked, tortilla, healthier, sea\n",
      "\n",
      "Topic 3\n",
      "bars, snack, bar, protein, cereal, granola, low, tasty, calories, fat, fruit, kind, nuts, candy, high, crunchy, fiber, gluten, breakfast, ingredients\n",
      "\n",
      "Topic 4\n",
      "cat, cats, chicken, dry, canned, foods, wellness, diet, ingredients, vet, wet, feed, tuna, grain, feeding, cans, picky, fish, science, meat\n",
      "\n",
      "Topic 5\n",
      "cookies, gluten, cookie, ginger, chip, soft, oatmeal, wheat, texture, flour, kids, pamela, bread, broken, gf, family, products, crunchy, shortbread, package\n",
      "\n",
      "Topic 6\n",
      "strong, cups, bold, roast, bitter, blend, green, dark, keurig, smooth, coffees, decaf, flavored, morning, brew, starbucks, french, rich, mountain, vanilla\n",
      "\n",
      "Topic 7\n",
      "butter, peanut, calories, fat, pb2, regular, peanuts, almond, low, protein, pb, cookie, jar, spread, creamy, cheese, cream, natural, powder, shakes\n",
      "\n",
      "Topic 8\n",
      "stores, local, shipping, buying, happy, grocery, purchase, fresh, hard, arrived, item, received, bags, easy, pack, purchased, long, came, package, thought\n",
      "\n",
      "Topic 9\n",
      "coconut, oil, popcorn, salt, hair, olive, skin, using, cooking, movie, organic, popper, corn, sea, natural, smell, theater, ingredients, oils, pop\n",
      "\n"
     ]
    }
   ],
   "source": [
    "print_topics(topics)"
   ]
  },
  {
   "cell_type": "markdown",
   "metadata": {},
   "source": [
    "Let's look at the distribution of the topics across the document"
   ]
  },
  {
   "cell_type": "code",
   "execution_count": 17,
   "metadata": {},
   "outputs": [
    {
     "data": {
      "text/plain": [
       "8    26910\n",
       "6     6976\n",
       "3     4497\n",
       "1     3735\n",
       "9     3571\n",
       "0     3086\n",
       "4     2696\n",
       "5     2243\n",
       "2     1850\n",
       "7     1282\n",
       "Name: topics, dtype: int64"
      ]
     },
     "execution_count": 17,
     "metadata": {},
     "output_type": "execute_result"
    }
   ],
   "source": [
    "#df = pd.DataFrame([])\n",
    "reviews['topics']=[nmf_vec.argmax() for nmf_vec in nmf_vecs]\n",
    "\n",
    "reviews['topics'].value_counts()"
   ]
  },
  {
   "cell_type": "code",
   "execution_count": 42,
   "metadata": {},
   "outputs": [
    {
     "data": {
      "text/plain": [
       "<BarContainer object of 10 artists>"
      ]
     },
     "execution_count": 42,
     "metadata": {},
     "output_type": "execute_result"
    },
    {
     "data": {
      "image/png": "[encoded data removed]",
      "text/plain": [
       "<Figure size 432x288 with 1 Axes>"
      ]
     },
     "metadata": {},
     "output_type": "display_data"
    }
   ],
   "source": [
    "plt.bar(['Shipping', '6', '3', '1', '9', '0', '4', '5', '2', '7'], reviews['topics'].value_counts())"
   ]
  },
  {
   "cell_type": "code",
   "execution_count": 24,
   "metadata": {},
   "outputs": [
    {
     "data": {
      "text/html": [
       "<div>\n",
       "<style scoped>\n",
       "    .dataframe tbody tr th:only-of-type {\n",
       "        vertical-align: middle;\n",
       "    }\n",
       "\n",
       "    .dataframe tbody tr th {\n",
       "        vertical-align: top;\n",
       "    }\n",
       "\n",
       "    .dataframe thead th {\n",
       "        text-align: right;\n",
       "    }\n",
       "</style>\n",
       "<table border=\"1\" class=\"dataframe\">\n",
       "  <thead>\n",
       "    <tr style=\"text-align: right;\">\n",
       "      <th></th>\n",
       "      <th>topics</th>\n",
       "      <th>Time</th>\n",
       "    </tr>\n",
       "  </thead>\n",
       "  <tbody>\n",
       "    <tr>\n",
       "      <th>0</th>\n",
       "      <td>6</td>\n",
       "      <td>2000-01-19</td>\n",
       "    </tr>\n",
       "    <tr>\n",
       "      <th>1</th>\n",
       "      <td>6</td>\n",
       "      <td>2000-01-19</td>\n",
       "    </tr>\n",
       "    <tr>\n",
       "      <th>2</th>\n",
       "      <td>8</td>\n",
       "      <td>2000-02-26</td>\n",
       "    </tr>\n",
       "    <tr>\n",
       "      <th>3</th>\n",
       "      <td>8</td>\n",
       "      <td>2000-08-09</td>\n",
       "    </tr>\n",
       "    <tr>\n",
       "      <th>4</th>\n",
       "      <td>8</td>\n",
       "      <td>2002-05-01</td>\n",
       "    </tr>\n",
       "  </tbody>\n",
       "</table>\n",
       "</div>"
      ],
      "text/plain": [
       "   topics       Time\n",
       "0       6 2000-01-19\n",
       "1       6 2000-01-19\n",
       "2       8 2000-02-26\n",
       "3       8 2000-08-09\n",
       "4       8 2002-05-01"
      ]
     },
     "execution_count": 24,
     "metadata": {},
     "output_type": "execute_result"
    }
   ],
   "source": [
    "# reviews_stuff = reviews.loc[:,['topics', 'Time']]\n",
    "reviews_stuff = reviews[['topics', 'Time']]\n",
    "reviews_stuff.head()"
   ]
  },
  {
   "cell_type": "code",
   "execution_count": 25,
   "metadata": {},
   "outputs": [],
   "source": [
    "reviews_stuff.to_csv('/Users/anagiraldo-w/ds/metis/metisgh/reviews_stuff.csv')"
   ]
  },
  {
   "cell_type": "code",
   "execution_count": 28,
   "metadata": {},
   "outputs": [
    {
     "ename": "TypeError",
     "evalue": "expected string or bytes-like object",
     "output_type": "error",
     "traceback": [
      "\u001b[0;31m---------------------------------------------------------------------------\u001b[0m",
      "\u001b[0;31mTypeError\u001b[0m                                 Traceback (most recent call last)",
      "\u001b[0;32m<ipython-input-28-e3bff5df44ca>\u001b[0m in \u001b[0;36m<module>\u001b[0;34m()\u001b[0m\n\u001b[1;32m      9\u001b[0m     \u001b[0mplt\u001b[0m\u001b[0;34m.\u001b[0m\u001b[0mshow\u001b[0m\u001b[0;34m(\u001b[0m\u001b[0;34m)\u001b[0m\u001b[0;34m\u001b[0m\u001b[0m\n\u001b[1;32m     10\u001b[0m \u001b[0;34m\u001b[0m\u001b[0m\n\u001b[0;32m---> 11\u001b[0;31m \u001b[0mgenerate_wordcloud\u001b[0m\u001b[0;34m(\u001b[0m\u001b[0mtext\u001b[0m\u001b[0;34m)\u001b[0m\u001b[0;34m\u001b[0m\u001b[0m\n\u001b[0m",
      "\u001b[0;32m<ipython-input-28-e3bff5df44ca>\u001b[0m in \u001b[0;36mgenerate_wordcloud\u001b[0;34m(text)\u001b[0m\n\u001b[1;32m      4\u001b[0m                           \u001b[0mrelative_scaling\u001b[0m \u001b[0;34m=\u001b[0m \u001b[0;36m1.0\u001b[0m\u001b[0;34m,\u001b[0m\u001b[0;34m\u001b[0m\u001b[0m\n\u001b[1;32m      5\u001b[0m                           \u001b[0mstopwords\u001b[0m \u001b[0;34m=\u001b[0m \u001b[0mstop_words\u001b[0m \u001b[0;31m# set or space-separated string\u001b[0m\u001b[0;34m\u001b[0m\u001b[0m\n\u001b[0;32m----> 6\u001b[0;31m                           ).generate(text)\n\u001b[0m\u001b[1;32m      7\u001b[0m     \u001b[0mplt\u001b[0m\u001b[0;34m.\u001b[0m\u001b[0mimshow\u001b[0m\u001b[0;34m(\u001b[0m\u001b[0mwordcloud\u001b[0m\u001b[0;34m)\u001b[0m\u001b[0;34m\u001b[0m\u001b[0m\n\u001b[1;32m      8\u001b[0m     \u001b[0mplt\u001b[0m\u001b[0;34m.\u001b[0m\u001b[0maxis\u001b[0m\u001b[0;34m(\u001b[0m\u001b[0;34m\"off\"\u001b[0m\u001b[0;34m)\u001b[0m\u001b[0;34m\u001b[0m\u001b[0m\n",
      "\u001b[0;32m/anaconda3/lib/python3.5/site-packages/wordcloud/wordcloud.py\u001b[0m in \u001b[0;36mgenerate\u001b[0;34m(self, text)\u001b[0m\n\u001b[1;32m    603\u001b[0m         \u001b[0mself\u001b[0m\u001b[0;34m\u001b[0m\u001b[0m\n\u001b[1;32m    604\u001b[0m         \"\"\"\n\u001b[0;32m--> 605\u001b[0;31m         \u001b[0;32mreturn\u001b[0m \u001b[0mself\u001b[0m\u001b[0;34m.\u001b[0m\u001b[0mgenerate_from_text\u001b[0m\u001b[0;34m(\u001b[0m\u001b[0mtext\u001b[0m\u001b[0;34m)\u001b[0m\u001b[0;34m\u001b[0m\u001b[0m\n\u001b[0m\u001b[1;32m    606\u001b[0m \u001b[0;34m\u001b[0m\u001b[0m\n\u001b[1;32m    607\u001b[0m     \u001b[0;32mdef\u001b[0m \u001b[0m_check_generated\u001b[0m\u001b[0;34m(\u001b[0m\u001b[0mself\u001b[0m\u001b[0;34m)\u001b[0m\u001b[0;34m:\u001b[0m\u001b[0;34m\u001b[0m\u001b[0m\n",
      "\u001b[0;32m/anaconda3/lib/python3.5/site-packages/wordcloud/wordcloud.py\u001b[0m in \u001b[0;36mgenerate_from_text\u001b[0;34m(self, text)\u001b[0m\n\u001b[1;32m    584\u001b[0m         \u001b[0mself\u001b[0m\u001b[0;34m\u001b[0m\u001b[0m\n\u001b[1;32m    585\u001b[0m         \"\"\"\n\u001b[0;32m--> 586\u001b[0;31m         \u001b[0mwords\u001b[0m \u001b[0;34m=\u001b[0m \u001b[0mself\u001b[0m\u001b[0;34m.\u001b[0m\u001b[0mprocess_text\u001b[0m\u001b[0;34m(\u001b[0m\u001b[0mtext\u001b[0m\u001b[0;34m)\u001b[0m\u001b[0;34m\u001b[0m\u001b[0m\n\u001b[0m\u001b[1;32m    587\u001b[0m         \u001b[0mself\u001b[0m\u001b[0;34m.\u001b[0m\u001b[0mgenerate_from_frequencies\u001b[0m\u001b[0;34m(\u001b[0m\u001b[0mwords\u001b[0m\u001b[0;34m)\u001b[0m\u001b[0;34m\u001b[0m\u001b[0m\n\u001b[1;32m    588\u001b[0m         \u001b[0;32mreturn\u001b[0m \u001b[0mself\u001b[0m\u001b[0;34m\u001b[0m\u001b[0m\n",
      "\u001b[0;32m/anaconda3/lib/python3.5/site-packages/wordcloud/wordcloud.py\u001b[0m in \u001b[0;36mprocess_text\u001b[0;34m(self, text)\u001b[0m\n\u001b[1;32m    551\u001b[0m         \u001b[0mregexp\u001b[0m \u001b[0;34m=\u001b[0m \u001b[0mself\u001b[0m\u001b[0;34m.\u001b[0m\u001b[0mregexp\u001b[0m \u001b[0;32mif\u001b[0m \u001b[0mself\u001b[0m\u001b[0;34m.\u001b[0m\u001b[0mregexp\u001b[0m \u001b[0;32mis\u001b[0m \u001b[0;32mnot\u001b[0m \u001b[0;32mNone\u001b[0m \u001b[0;32melse\u001b[0m \u001b[0;34mr\"\\w[\\w']+\"\u001b[0m\u001b[0;34m\u001b[0m\u001b[0m\n\u001b[1;32m    552\u001b[0m \u001b[0;34m\u001b[0m\u001b[0m\n\u001b[0;32m--> 553\u001b[0;31m         \u001b[0mwords\u001b[0m \u001b[0;34m=\u001b[0m \u001b[0mre\u001b[0m\u001b[0;34m.\u001b[0m\u001b[0mfindall\u001b[0m\u001b[0;34m(\u001b[0m\u001b[0mregexp\u001b[0m\u001b[0;34m,\u001b[0m \u001b[0mtext\u001b[0m\u001b[0;34m,\u001b[0m \u001b[0mflags\u001b[0m\u001b[0;34m)\u001b[0m\u001b[0;34m\u001b[0m\u001b[0m\n\u001b[0m\u001b[1;32m    554\u001b[0m         \u001b[0;31m# remove stopwords\u001b[0m\u001b[0;34m\u001b[0m\u001b[0;34m\u001b[0m\u001b[0m\n\u001b[1;32m    555\u001b[0m         \u001b[0mwords\u001b[0m \u001b[0;34m=\u001b[0m \u001b[0;34m[\u001b[0m\u001b[0mword\u001b[0m \u001b[0;32mfor\u001b[0m \u001b[0mword\u001b[0m \u001b[0;32min\u001b[0m \u001b[0mwords\u001b[0m \u001b[0;32mif\u001b[0m \u001b[0mword\u001b[0m\u001b[0;34m.\u001b[0m\u001b[0mlower\u001b[0m\u001b[0;34m(\u001b[0m\u001b[0;34m)\u001b[0m \u001b[0;32mnot\u001b[0m \u001b[0;32min\u001b[0m \u001b[0mstopwords\u001b[0m\u001b[0;34m]\u001b[0m\u001b[0;34m\u001b[0m\u001b[0m\n",
      "\u001b[0;32m/anaconda3/lib/python3.5/re.py\u001b[0m in \u001b[0;36mfindall\u001b[0;34m(pattern, string, flags)\u001b[0m\n\u001b[1;32m    211\u001b[0m \u001b[0;34m\u001b[0m\u001b[0m\n\u001b[1;32m    212\u001b[0m     Empty matches are included in the result.\"\"\"\n\u001b[0;32m--> 213\u001b[0;31m     \u001b[0;32mreturn\u001b[0m \u001b[0m_compile\u001b[0m\u001b[0;34m(\u001b[0m\u001b[0mpattern\u001b[0m\u001b[0;34m,\u001b[0m \u001b[0mflags\u001b[0m\u001b[0;34m)\u001b[0m\u001b[0;34m.\u001b[0m\u001b[0mfindall\u001b[0m\u001b[0;34m(\u001b[0m\u001b[0mstring\u001b[0m\u001b[0;34m)\u001b[0m\u001b[0;34m\u001b[0m\u001b[0m\n\u001b[0m\u001b[1;32m    214\u001b[0m \u001b[0;34m\u001b[0m\u001b[0m\n\u001b[1;32m    215\u001b[0m \u001b[0;32mdef\u001b[0m \u001b[0mfinditer\u001b[0m\u001b[0;34m(\u001b[0m\u001b[0mpattern\u001b[0m\u001b[0;34m,\u001b[0m \u001b[0mstring\u001b[0m\u001b[0;34m,\u001b[0m \u001b[0mflags\u001b[0m\u001b[0;34m=\u001b[0m\u001b[0;36m0\u001b[0m\u001b[0;34m)\u001b[0m\u001b[0;34m:\u001b[0m\u001b[0;34m\u001b[0m\u001b[0m\n",
      "\u001b[0;31mTypeError\u001b[0m: expected string or bytes-like object"
     ]
    }
   ],
   "source": [
    "from wordcloud import WordCloud, STOPWORDS \n",
    "def generate_wordcloud(text): # optionally add: stopwords=STOPWORDS and change the arg below\n",
    "    wordcloud = WordCloud(font_path='/Library/Fonts/Verdana.ttf',\n",
    "                          relative_scaling = 1.0,\n",
    "                          stopwords = stop_words # set or space-separated string\n",
    "                          ).generate(text)\n",
    "    plt.imshow(wordcloud)\n",
    "    plt.axis(\"off\")\n",
    "    plt.show()\n",
    "\n",
    "generate_wordcloud(text)"
   ]
  },
  {
   "cell_type": "code",
   "execution_count": null,
   "metadata": {},
   "outputs": [],
   "source": [
    "# df = pd.DataFrame([])\n",
    "# df['topics']=[nmf_vec.argmax() for nmf_vec in nmf_vecs]\n",
    "#  unicode(x.strip()) if x is not None else '' for x in row"
   ]
  },
  {
   "cell_type": "markdown",
   "metadata": {},
   "source": [
    "## Let's Try LDA ##"
   ]
  },
  {
   "cell_type": "code",
   "execution_count": null,
   "metadata": {},
   "outputs": [],
   "source": [
    "cv_corpus = matutils.Sparse2Corpus(counts_vec)\n",
    "id2word = dict((v, k) for k, v in vec.vocabulary_.items())\n",
    "lda = models.LdaModel(corpus=cv_corpus, num_topics=12, id2word=id2word, passes=10)\n",
    "lda.print_topics()"
   ]
  },
  {
   "cell_type": "code",
   "execution_count": null,
   "metadata": {},
   "outputs": [],
   "source": [
    "lda_dict = Dictionary(text)\n",
    "lda_dict.compactify()\n",
    "pyLDAvis.gensim.prepare(lda, cv_corpus, lda_dict)"
   ]
  },
  {
   "cell_type": "markdown",
   "metadata": {},
   "source": [
    "## Now Let's Give LSI a Try"
   ]
  },
  {
   "cell_type": "code",
   "execution_count": null,
   "metadata": {},
   "outputs": [],
   "source": [
    "# tfidf_corpus = matutils.Sparse2Corpus(tfidf_vec.transpose())\n",
    "\n",
    "# id2word2 = dict((v, k) for k, v in tfidf.vocabulary_.items())\n",
    "\n",
    "# lsi = models.LsiModel(tfidf_corpus, id2word=id2word2, num_topics=20)"
   ]
  },
  {
   "cell_type": "code",
   "execution_count": null,
   "metadata": {},
   "outputs": [],
   "source": [
    "# lsi_corpus = lsi[tfidf_corpus]\n",
    "# doc_vecs = [doc for doc in lsi_corpus]\n",
    "# doc_vecs[0]"
   ]
  },
  {
   "cell_type": "code",
   "execution_count": null,
   "metadata": {},
   "outputs": [],
   "source": [
    "# Index our test text blobs\n",
    "#test_index = similarities.MatrixSimilarity(lsi_corpus)"
   ]
  },
  {
   "cell_type": "markdown",
   "metadata": {},
   "source": [
    "## Combine Users ##"
   ]
  },
  {
   "cell_type": "code",
   "execution_count": 44,
   "metadata": {},
   "outputs": [
    {
     "data": {
      "text/html": [
       "<div>\n",
       "<style scoped>\n",
       "    .dataframe tbody tr th:only-of-type {\n",
       "        vertical-align: middle;\n",
       "    }\n",
       "\n",
       "    .dataframe tbody tr th {\n",
       "        vertical-align: top;\n",
       "    }\n",
       "\n",
       "    .dataframe thead th {\n",
       "        text-align: right;\n",
       "    }\n",
       "</style>\n",
       "<table border=\"1\" class=\"dataframe\">\n",
       "  <thead>\n",
       "    <tr style=\"text-align: right;\">\n",
       "      <th></th>\n",
       "      <th>UserId</th>\n",
       "      <th>ProductId</th>\n",
       "      <th>Text</th>\n",
       "    </tr>\n",
       "  </thead>\n",
       "  <tbody>\n",
       "    <tr>\n",
       "      <th>0</th>\n",
       "      <td>#oc-R11O5J5ZVQE25C</td>\n",
       "      <td>[B005HG9ESG]</td>\n",
       "      <td>This will be the bottle that you grab from the...</td>\n",
       "    </tr>\n",
       "    <tr>\n",
       "      <th>1</th>\n",
       "      <td>#oc-R149FDXLRARCWJ</td>\n",
       "      <td>[B008I1XPKA]</td>\n",
       "      <td>I was fortunate enough to win a sampler box of...</td>\n",
       "    </tr>\n",
       "    <tr>\n",
       "      <th>2</th>\n",
       "      <td>#oc-R155JB2SA58E17</td>\n",
       "      <td>[B005HG9ESG]</td>\n",
       "      <td>If you love bottled water, and are looking for...</td>\n",
       "    </tr>\n",
       "    <tr>\n",
       "      <th>3</th>\n",
       "      <td>#oc-R162D7S0A880MV</td>\n",
       "      <td>[B005HG9ESG]</td>\n",
       "      <td>For those looking for a non-flavoured water be...</td>\n",
       "    </tr>\n",
       "    <tr>\n",
       "      <th>4</th>\n",
       "      <td>#oc-R19EJ3VEA88T6O</td>\n",
       "      <td>[B005HG9ET0]</td>\n",
       "      <td>This is a very silky feeling water.  I had to ...</td>\n",
       "    </tr>\n",
       "  </tbody>\n",
       "</table>\n",
       "</div>"
      ],
      "text/plain": [
       "               UserId     ProductId  \\\n",
       "0  #oc-R11O5J5ZVQE25C  [B005HG9ESG]   \n",
       "1  #oc-R149FDXLRARCWJ  [B008I1XPKA]   \n",
       "2  #oc-R155JB2SA58E17  [B005HG9ESG]   \n",
       "3  #oc-R162D7S0A880MV  [B005HG9ESG]   \n",
       "4  #oc-R19EJ3VEA88T6O  [B005HG9ET0]   \n",
       "\n",
       "                                                Text  \n",
       "0  This will be the bottle that you grab from the...  \n",
       "1  I was fortunate enough to win a sampler box of...  \n",
       "2  If you love bottled water, and are looking for...  \n",
       "3  For those looking for a non-flavoured water be...  \n",
       "4  This is a very silky feeling water.  I had to ...  "
      ]
     },
     "execution_count": 44,
     "metadata": {},
     "output_type": "execute_result"
    }
   ],
   "source": [
    "df_user = (reviews.groupby(['UserId'], as_index=False)\n",
    "           .agg(OrderedDict(\n",
    "               [('ProductId',(lambda x: list(x))),\n",
    "                ('Text', 'sum')])))\n",
    "df_user.head()"
   ]
  },
  {
   "cell_type": "code",
   "execution_count": 45,
   "metadata": {},
   "outputs": [],
   "source": [
    "user_text = df_user['Text']\n",
    "\n",
    "tfidf2 = TfidfVectorizer(ngram_range=(1, 2),\n",
    "                        analyzer='word',\n",
    "                        stop_words=stop_words,\n",
    "                        strip_accents='unicode',\n",
    "                        max_df=0.1\n",
    "                       )\n",
    "\n",
    "user_corpus = tfidf2.fit_transform(user_text)"
   ]
  },
  {
   "cell_type": "code",
   "execution_count": null,
   "metadata": {},
   "outputs": [],
   "source": [
    "nmf2 = NMF(8)\n",
    "user_vecs = nmf2.fit_transform(user_corpus)"
   ]
  },
  {
   "cell_type": "code",
   "execution_count": 53,
   "metadata": {},
   "outputs": [
    {
     "data": {
      "text/html": [
       "<div>\n",
       "<style scoped>\n",
       "    .dataframe tbody tr th:only-of-type {\n",
       "        vertical-align: middle;\n",
       "    }\n",
       "\n",
       "    .dataframe tbody tr th {\n",
       "        vertical-align: top;\n",
       "    }\n",
       "\n",
       "    .dataframe thead th {\n",
       "        text-align: right;\n",
       "    }\n",
       "</style>\n",
       "<table border=\"1\" class=\"dataframe\">\n",
       "  <thead>\n",
       "    <tr style=\"text-align: right;\">\n",
       "      <th></th>\n",
       "      <th>0</th>\n",
       "      <th>1</th>\n",
       "      <th>2</th>\n",
       "      <th>3</th>\n",
       "      <th>4</th>\n",
       "      <th>5</th>\n",
       "      <th>6</th>\n",
       "      <th>7</th>\n",
       "    </tr>\n",
       "  </thead>\n",
       "  <tbody>\n",
       "    <tr>\n",
       "      <th>0</th>\n",
       "      <td>0.015588</td>\n",
       "      <td>0.000985</td>\n",
       "      <td>0.00000</td>\n",
       "      <td>0.0</td>\n",
       "      <td>0.0</td>\n",
       "      <td>0.000138</td>\n",
       "      <td>0.000000</td>\n",
       "      <td>0.000000</td>\n",
       "    </tr>\n",
       "    <tr>\n",
       "      <th>1</th>\n",
       "      <td>0.000000</td>\n",
       "      <td>0.000000</td>\n",
       "      <td>0.00000</td>\n",
       "      <td>0.0</td>\n",
       "      <td>0.0</td>\n",
       "      <td>0.020656</td>\n",
       "      <td>0.000000</td>\n",
       "      <td>0.004916</td>\n",
       "    </tr>\n",
       "    <tr>\n",
       "      <th>2</th>\n",
       "      <td>0.019314</td>\n",
       "      <td>0.000835</td>\n",
       "      <td>0.00000</td>\n",
       "      <td>0.0</td>\n",
       "      <td>0.0</td>\n",
       "      <td>0.000000</td>\n",
       "      <td>0.000000</td>\n",
       "      <td>0.000000</td>\n",
       "    </tr>\n",
       "    <tr>\n",
       "      <th>3</th>\n",
       "      <td>0.016261</td>\n",
       "      <td>0.000000</td>\n",
       "      <td>0.00000</td>\n",
       "      <td>0.0</td>\n",
       "      <td>0.0</td>\n",
       "      <td>0.000870</td>\n",
       "      <td>0.000000</td>\n",
       "      <td>0.000000</td>\n",
       "    </tr>\n",
       "    <tr>\n",
       "      <th>4</th>\n",
       "      <td>0.019331</td>\n",
       "      <td>0.000573</td>\n",
       "      <td>0.00253</td>\n",
       "      <td>0.0</td>\n",
       "      <td>0.0</td>\n",
       "      <td>0.000791</td>\n",
       "      <td>0.003403</td>\n",
       "      <td>0.002582</td>\n",
       "    </tr>\n",
       "  </tbody>\n",
       "</table>\n",
       "</div>"
      ],
      "text/plain": [
       "          0         1        2    3    4         5         6         7\n",
       "0  0.015588  0.000985  0.00000  0.0  0.0  0.000138  0.000000  0.000000\n",
       "1  0.000000  0.000000  0.00000  0.0  0.0  0.020656  0.000000  0.004916\n",
       "2  0.019314  0.000835  0.00000  0.0  0.0  0.000000  0.000000  0.000000\n",
       "3  0.016261  0.000000  0.00000  0.0  0.0  0.000870  0.000000  0.000000\n",
       "4  0.019331  0.000573  0.00253  0.0  0.0  0.000791  0.003403  0.002582"
      ]
     },
     "execution_count": 53,
     "metadata": {},
     "output_type": "execute_result"
    }
   ],
   "source": [
    "user_vec_df = pd.DataFrame(user_vecs)\n",
    "user_vec_df.head()"
   ]
  },
  {
   "cell_type": "code",
   "execution_count": 54,
   "metadata": {},
   "outputs": [],
   "source": [
    "user_vec_df.to_csv('/Users/anagiraldo-w/ds/metis/metisgh/user_vectors.csv')"
   ]
  },
  {
   "cell_type": "code",
   "execution_count": 47,
   "metadata": {},
   "outputs": [],
   "source": [
    "user_features = tfidf2.get_feature_names()\n",
    "user_topics = [[user_features[idx] for idx in np.flip(np.argsort(component)[-20:], axis=0)] for component in nmf2.components_]"
   ]
  },
  {
   "cell_type": "code",
   "execution_count": 48,
   "metadata": {},
   "outputs": [
    {
     "name": "stdout",
     "output_type": "stream",
     "text": [
      "Topic 0\n",
      "water, sugar, sweet, tastes, drink, coconut, oil, add, milk, sauce, mix, stuff, cereal, hot, used, organic, healthy, does, fruit, way\n",
      "\n",
      "Topic 1\n",
      "tea, green, green tea, teas, drink, iced, tea bags, bags, black, iced tea, chai, black tea, love tea, stash, earl, grey, earl grey, drinking, hot, loose\n",
      "\n",
      "Topic 2\n",
      "dog, treats, dogs, loves, treat, dog food, dog loves, dogs love, training, small, teeth, chew, puppy, toy, old, dog treats, healthy, chicken, size, pet\n",
      "\n",
      "Topic 3\n",
      "gluten, free, gluten free, cookies, bread, flour, pasta, wheat, mix, sugar free, products, cookie, pretzels, free diet, best gluten, celiac, gf, texture, free products, pamela\n",
      "\n",
      "Topic 4\n",
      "chocolate, butter, peanut, peanut butter, bars, bar, cookies, dark chocolate, dark, hot chocolate, hot, cookie, calories, fat, cocoa, pb2, protein, milk, like peanut, snack\n",
      "\n",
      "Topic 5\n",
      "cup, cups, strong, cup coffee, bold, roast, keurig, blend, dark, bitter, decaf, french, smooth, coffees, starbucks, favorite, mountain, morning, green mountain, pods\n",
      "\n",
      "Topic 6\n",
      "cat, cats, cat food, chicken, dry, canned, cats love, foods, old, dry food, wet, wellness, vet, quality, diet, tuna, grain, cans, feed, pill\n",
      "\n",
      "Topic 7\n",
      "order, store, chips, box, bag, ordered, local, grocery, bought, stores, shipping, arrived, received, grocery store, bags, got, item, purchase, buying, candy\n",
      "\n"
     ]
    }
   ],
   "source": [
    "print_topics(user_topics)"
   ]
  },
  {
   "cell_type": "code",
   "execution_count": null,
   "metadata": {},
   "outputs": [],
   "source": [
    "from sklearn.cluster import DBSCAN\n",
    "dbscan_clusters = DBSCAN()\n",
    "dbscan_clusters.fit_predict(user_vecs)"
   ]
  },
  {
   "cell_type": "code",
   "execution_count": null,
   "metadata": {},
   "outputs": [],
   "source": [
    "centers = dbscan_clusters.components_ \n",
    "\n",
    "#sns.scatterplot(X[:,0], X[:,1], hue=df.sentiment)\n",
    "plt.scatter(centers[:,0], centers[0,:],color = 'purple') \n",
    "plt.scatter(centers[:,0], centers[0,:],color = 'red')\n",
    "plt.title('First Two Principle Components, With 2-Means Cluster Centers')"
   ]
  },
  {
   "cell_type": "code",
   "execution_count": null,
   "metadata": {},
   "outputs": [],
   "source": [
    "# Compute DBSCAN\n",
    "db = DBSCAN(eps=0.3, min_samples=10).fit(user_corpus)\n",
    "core_samples_mask = np.zeros_like(db.labels_, dtype=bool)\n",
    "core_samples_mask[db.core_sample_indices_] = True\n",
    "labels = db.labels_\n",
    "\n",
    "# Number of clusters in labels, ignoring noise if present.\n",
    "n_clusters_ = len(set(labels)) - (1 if -1 in labels else 0)\n"
   ]
  },
  {
   "cell_type": "code",
   "execution_count": null,
   "metadata": {},
   "outputs": [],
   "source": [
    "# #############################################################################\n",
    "# Plot result\n",
    "import matplotlib.pyplot as plt\n",
    "\n",
    "# Black removed and is used for noise instead.\n",
    "unique_labels = set(labels)\n",
    "colors = [plt.cm.Spectral(each)\n",
    "          for each in np.linspace(0, 1, len(unique_labels))]\n",
    "for k, col in zip(unique_labels, colors):\n",
    "    if k == -1:\n",
    "        # Black used for noise.\n",
    "        col = [0, 0, 0, 1]\n",
    "\n",
    "    class_member_mask = (labels == k)\n",
    "\n",
    "    xy = user_corpus[class_member_mask & core_samples_mask]\n",
    "    plt.plot(xy[:, 0], xy[:, 1], 'o', markerfacecolor=tuple(col),\n",
    "             markeredgecolor='k', markersize=14)\n",
    "\n",
    "    xy = user_corpus[class_member_mask & ~core_samples_mask]\n",
    "    plt.plot(xy[:, 0], xy[:, 1], 'o', markerfacecolor=tuple(col),\n",
    "             markeredgecolor='k', markersize=6)\n",
    "\n",
    "plt.title('Estimated number of clusters: %d' % n_clusters_)\n",
    "plt.show()"
   ]
  },
  {
   "cell_type": "markdown",
   "metadata": {},
   "source": [
    "## Combine Products ##"
   ]
  },
  {
   "cell_type": "code",
   "execution_count": 29,
   "metadata": {},
   "outputs": [
    {
     "data": {
      "text/html": [
       "<div>\n",
       "<style scoped>\n",
       "    .dataframe tbody tr th:only-of-type {\n",
       "        vertical-align: middle;\n",
       "    }\n",
       "\n",
       "    .dataframe tbody tr th {\n",
       "        vertical-align: top;\n",
       "    }\n",
       "\n",
       "    .dataframe thead th {\n",
       "        text-align: right;\n",
       "    }\n",
       "</style>\n",
       "<table border=\"1\" class=\"dataframe\">\n",
       "  <thead>\n",
       "    <tr style=\"text-align: right;\">\n",
       "      <th></th>\n",
       "      <th>ProductId</th>\n",
       "      <th>UserId</th>\n",
       "      <th>Text</th>\n",
       "    </tr>\n",
       "  </thead>\n",
       "  <tbody>\n",
       "    <tr>\n",
       "      <th>0</th>\n",
       "      <td>0006641040</td>\n",
       "      <td>[A3E7R866M94L0C, AYZ0PR5QZROD1]</td>\n",
       "      <td>This book has been a favorite of mine since I ...</td>\n",
       "    </tr>\n",
       "    <tr>\n",
       "      <th>1</th>\n",
       "      <td>2734888454</td>\n",
       "      <td>[A13ISQV0U9GZIC]</td>\n",
       "      <td>My dogs loves this chicken but its a product f...</td>\n",
       "    </tr>\n",
       "    <tr>\n",
       "      <th>2</th>\n",
       "      <td>7310172001</td>\n",
       "      <td>[AOLDDV8Y96TSB, A16GY2RCF410DT, A223KNNTFHHIM7...</td>\n",
       "      <td>Our dog would do ANYTHING for these treats! Ha...</td>\n",
       "    </tr>\n",
       "    <tr>\n",
       "      <th>3</th>\n",
       "      <td>7310172101</td>\n",
       "      <td>[A1JTZ9K2RZKAA4, A14YBOI1XSJ0UP, A1DIS7PF5AA5V...</td>\n",
       "      <td>I have a chihuahua that is the pickiest eater ...</td>\n",
       "    </tr>\n",
       "    <tr>\n",
       "      <th>4</th>\n",
       "      <td>B00002N8SM</td>\n",
       "      <td>[A1L227LG53GTLB, A23KO0L75SEQ3K, A19Q006CSFT01...</td>\n",
       "      <td>In the time I spent waiting for my order of th...</td>\n",
       "    </tr>\n",
       "  </tbody>\n",
       "</table>\n",
       "</div>"
      ],
      "text/plain": [
       "    ProductId                                             UserId  \\\n",
       "0  0006641040                    [A3E7R866M94L0C, AYZ0PR5QZROD1]   \n",
       "1  2734888454                                   [A13ISQV0U9GZIC]   \n",
       "2  7310172001  [AOLDDV8Y96TSB, A16GY2RCF410DT, A223KNNTFHHIM7...   \n",
       "3  7310172101  [A1JTZ9K2RZKAA4, A14YBOI1XSJ0UP, A1DIS7PF5AA5V...   \n",
       "4  B00002N8SM  [A1L227LG53GTLB, A23KO0L75SEQ3K, A19Q006CSFT01...   \n",
       "\n",
       "                                                Text  \n",
       "0  This book has been a favorite of mine since I ...  \n",
       "1  My dogs loves this chicken but its a product f...  \n",
       "2  Our dog would do ANYTHING for these treats! Ha...  \n",
       "3  I have a chihuahua that is the pickiest eater ...  \n",
       "4  In the time I spent waiting for my order of th...  "
      ]
     },
     "execution_count": 29,
     "metadata": {},
     "output_type": "execute_result"
    }
   ],
   "source": [
    "df_products = (reviews.groupby(['ProductId'], as_index=False)\n",
    "           .agg(OrderedDict(\n",
    "               [('UserId',(lambda x: list(x))),\n",
    "                ('Text', 'sum')])))\n",
    "df_products.head()"
   ]
  },
  {
   "cell_type": "code",
   "execution_count": 30,
   "metadata": {},
   "outputs": [],
   "source": [
    "products_text = df_products['Text']\n",
    "\n",
    "tfidf2 = TfidfVectorizer(ngram_range=(1, 1),\n",
    "                        analyzer='word',\n",
    "                        stop_words=stop_words,\n",
    "                        strip_accents='unicode',\n",
    "                        min_df=0.05\n",
    "                       )"
   ]
  },
  {
   "cell_type": "code",
   "execution_count": 31,
   "metadata": {
    "scrolled": true
   },
   "outputs": [
    {
     "name": "stdout",
     "output_type": "stream",
     "text": [
      "Topic 0\n",
      "like, taste, sugar, sweet, just, tastes, tried, try, free, better, does, little, think, bad, texture, calories, doesn, drink, snack, know\n",
      "\n",
      "Topic 1\n",
      "tea, green, drink, cup, bags, strong, hot, day, flavor, organic, bag, water, enjoy, favorite, nice, milk, morning, tastes, box, wonderful\n",
      "\n",
      "Topic 2\n",
      "coffee, cup, strong, drink, morning, best, tried, favorite, enjoy, house, taste, try, flavor, price, like, brand, green, brands, extra, new\n",
      "\n",
      "Topic 3\n",
      "food, dog, dogs, loves, chicken, old, dry, treat, foods, ingredients, healthy, diet, quality, year, like, small, natural, bag, day, little\n",
      "\n",
      "Topic 4\n",
      "chocolate, milk, hot, delicious, sweet, best, free, sugar, treat, box, calories, perfect, just, mix, tasted, make, texture, loved, wonderful, pack\n",
      "\n",
      "Topic 5\n",
      "buy, price, order, time, store, box, just, ordered, bought, bag, shipping, local, best, arrived, grocery, got, stores, received, item, pack\n",
      "\n",
      "Topic 6\n",
      "love, dogs, favorite, treat, just, absolutely, sweet, delicious, perfect, snack, stuff, best, healthy, flavors, little, flavor, loves, wonderful, try, husband\n",
      "\n",
      "Topic 7\n",
      "great, snack, price, tastes, healthy, tasting, recommend, deal, perfect, taste, low, easy, highly, little, makes, loves, looking, free, tasty, fast\n",
      "\n",
      "Topic 8\n",
      "good, flavor, nice, flavors, quality, pretty, texture, little, favorite, tasty, strong, sweet, excellent, quite, recommend, lot, stuff, tried, looking, best\n",
      "\n",
      "Topic 9\n",
      "use, make, mix, water, add, used, hot, easy, using, just, chicken, milk, cup, makes, little, years, need, stuff, time, making\n",
      "\n"
     ]
    }
   ],
   "source": [
    "product_corpus = tfidf2.fit_transform(products_text)\n",
    "\n",
    "nmf3 = NMF(10)\n",
    "\n",
    "product_vecs = nmf3.fit_transform(product_corpus)\n",
    "\n",
    "product_features = tfidf2.get_feature_names()\n",
    "product_topics = [[product_features[idx] for idx in np.flip(np.argsort(component)[-20:], axis=0)] for component in nmf3.components_]\n",
    "\n",
    "print_topics(product_topics)"
   ]
  },
  {
   "cell_type": "code",
   "execution_count": 32,
   "metadata": {},
   "outputs": [
    {
     "data": {
      "text/plain": [
       "5    4503\n",
       "9    2471\n",
       "0    2390\n",
       "8    2315\n",
       "3    2214\n",
       "7    2046\n",
       "1    1843\n",
       "6    1807\n",
       "2    1711\n",
       "4    1218\n",
       "Name: product_topics, dtype: int64"
      ]
     },
     "execution_count": 32,
     "metadata": {},
     "output_type": "execute_result"
    }
   ],
   "source": [
    "df = pd.DataFrame([])\n",
    "df['product_topics']=[product_vec.argmax() for product_vec in product_vecs]\n",
    "\n",
    "df['product_topics'].value_counts()"
   ]
  },
  {
   "cell_type": "code",
   "execution_count": 43,
   "metadata": {},
   "outputs": [
    {
     "data": {
      "text/plain": [
       "<BarContainer object of 10 artists>"
      ]
     },
     "execution_count": 43,
     "metadata": {},
     "output_type": "execute_result"
    },
    {
     "data": {
      "image/png": "[encoded data removed]",
      "text/plain": [
       "<Figure size 432x288 with 1 Axes>"
      ]
     },
     "metadata": {},
     "output_type": "display_data"
    }
   ],
   "source": [
    "plt.bar(['Shipping', '9', '0', '8', '3', '7', '1', '6', '2', '4'], df['product_topics'].value_counts())"
   ]
  },
  {
   "cell_type": "code",
   "execution_count": null,
   "metadata": {},
   "outputs": [],
   "source": [
    "df.shape"
   ]
  },
  {
   "cell_type": "code",
   "execution_count": null,
   "metadata": {},
   "outputs": [],
   "source": [
    "df_products = df_products.merge(df, on=df.index)\n",
    "df_products.head(20)"
   ]
  },
  {
   "cell_type": "code",
   "execution_count": null,
   "metadata": {},
   "outputs": [],
   "source": []
  },
  {
   "cell_type": "code",
   "execution_count": null,
   "metadata": {},
   "outputs": [],
   "source": [
    "tfidf3 = TfidfVectorizer(ngram_range=(1, 1),\n",
    "                        analyzer='word',\n",
    "                        stop_words=stop_words,\n",
    "                        strip_accents='unicode',\n",
    "                        max_df=0.5,\n",
    "                        min_df=0.1\n",
    "                       )\n",
    "\n",
    "shipping_corpus = tfidf3.fit_transform(text)\n",
    "\n",
    "nmf4 = NMF(5)"
   ]
  },
  {
   "cell_type": "code",
   "execution_count": null,
   "metadata": {},
   "outputs": [],
   "source": [
    "shipping_vecs = nmf4.fit_transform(shipping_corpus)\n",
    "\n",
    "shipping_features = tfidf3.get_feature_names()\n",
    "shipping_topics = [[shipping_features[idx] for idx in np.flip(np.argsort(component)[-20:], axis=0)] for component in nmf4.components_]\n",
    "\n",
    "print_topics(shipping_topics)"
   ]
  },
  {
   "cell_type": "code",
   "execution_count": null,
   "metadata": {},
   "outputs": [],
   "source": [
    "nmf4.components_"
   ]
  },
  {
   "cell_type": "code",
   "execution_count": null,
   "metadata": {},
   "outputs": [],
   "source": [
    "df = pd.DataFrame([])\n",
    "df['product_topics']=[product_vec.argmax() for product_vec in product_vecs]\n",
    "\n",
    "df['product_topics'].value_counts()\n"
   ]
  }
 ],
 "metadata": {
  "kernelspec": {
   "display_name": "Python 3",
   "language": "python",
   "name": "python3"
  },
  "language_info": {
   "codemirror_mode": {
    "name": "ipython",
    "version": 3
   },
   "file_extension": ".py",
   "mimetype": "text/x-python",
   "name": "python",
   "nbconvert_exporter": "python",
   "pygments_lexer": "ipython3",
   "version": "3.6.5"
  }
 },
 "nbformat": 4,
 "nbformat_minor": 2
}
